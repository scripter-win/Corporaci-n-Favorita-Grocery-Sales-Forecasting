{
 "cells": [
  {
   "cell_type": "markdown",
   "metadata": {},
   "source": [
    "### K 折交叉验证\n",
    "\n",
    "输入为 对应的特征，真实预测值，训练模型的类（具备 train 方法和 predict 方法）,K折的折数\n",
    "\n",
    "返回一个 K 折的平均差值\n"
   ]
  },
  {
   "cell_type": "code",
   "execution_count": null,
   "metadata": {},
   "outputs": [],
   "source": [
    "from bokeh.plotting import figure,show\n",
    "import numpy as np\n",
    "def costFunction(x,y):\n",
    "    if(len(x)!=len(y)):\n",
    "        raise Exception(\"the length of y is not equal the length of x\")\n",
    "        return 0\n",
    "    cost = 0.0\n",
    "    for i in range(0,len(x)):\n",
    "        cost += (x[i] - y[i])**2\n",
    "    cost/=len(x)\n",
    "    return x\n",
    "\n",
    "def KFoldValidation(data = None,trueValue = None,modelTrain = None,KNumber = 10):\n",
    "    ## data : 特征 ，trueValue : 真实的预测值， modelTrain ：训练模型的类  ，KNumber ：K 折验证的 K 值  \n",
    "    if(len(data)!=len(trueValue)):\n",
    "        raise Exception(\"the length of data Y is not equal the length of data X\")\n",
    "        return 0\n",
    "    \n",
    "    if(KNumber<=0):\n",
    "        raise Exception(\"invalid value of f\")\n",
    "        return 0\n",
    "    \n",
    "    dataFold = []\n",
    "    predictFold = []\n",
    "    splitLen = int(len(data)/KNumber)\n",
    "   \n",
    "    for i in range(0,KNumber):\n",
    "        dataFold.append(data[i*splitLen:(i+1)*splitLen])\n",
    "        predictFold.append(trueValue[i*splitLen:(i+1)*splitLen])\n",
    "        \n",
    "    errorValue = 0.0 # K 折训练的所有差值的平均值\n",
    "    plot = figure() # 可视化组件\n",
    "    \n",
    "    for i in range(0,KNumber):\n",
    "        popData = dataFold.pop(i)\n",
    "        popPredict = predictFold.pop(i)\n",
    "        trains = tuple([i for i in dataFold])\n",
    "        predicts = tuple([i for i in predictFold])\n",
    "        model = modelTrain.train(trains, predicts)\n",
    "        error = costFunction(model.predict(popData), popPredict)/KNumber\n",
    "        errorValue += error \n",
    "        plot.vbar(x = i,top = error,bottom = 0,width = 0.3) # 绘制直方图\n",
    "        dataFold.insert(i, popData)\n",
    "        predictFold.insert(i, popPredict)\n",
    "    show(plot) # 绘图\n",
    "    return errorValue\n",
    "        "
   ]
  },
  {
   "cell_type": "markdown",
   "metadata": {},
   "source": [
    "### 下面是一个线性回归模型类的示例"
   ]
  },
  {
   "cell_type": "code",
   "execution_count": null,
   "metadata": {},
   "outputs": [],
   "source": [
    "import numpy as np\n",
    "\n",
    "class model:\n",
    "    def __init__(self,learningRate = None,iteration = None):\n",
    "        self.x = np.array([])\n",
    "        if(learningRate!=None and learningRate>0):\n",
    "            self.learningRate = learningRate\n",
    "        else:\n",
    "            self.learningRate = 0.001\n",
    "        if(iteration!=None and iteration>0):\n",
    "            self.iteration = iteration\n",
    "        else:\n",
    "            self.iteration = 10000\n",
    "        \n",
    "    def train(self,feature,predict,learningRate = None,iteration=None):\n",
    "        if(len(feature.shape)<=1):\n",
    "            raise Exception('the size of input data shall be [ data amount , feature size]')\n",
    "        else:\n",
    "            self.x = np.random.random([len(feature[0])])\n",
    "            \n",
    "        if(learningRate!=None and learningRate>0):\n",
    "            self.learningRate = learningRate\n",
    "        if(iteration!=None and iteration>0):\n",
    "            self.iteration = iteration\n",
    "            \n",
    "        self.x = self.gredientDecent(feature,predict)\n",
    "        \n",
    "    def gredientDecent(self,feature,predictActual):\n",
    "        for i in range(0,self.iteration):\n",
    "            predict = self.predict(feature[i])[0]\n",
    "            self.x -= self.learningRate * ( predict - predictActual[i] ) * feature[i]\n",
    "                \n",
    "    def predict(self,feature):\n",
    "        if(len(feature.shape)==1):\n",
    "            if(feature.shape!=self.x.shape):\n",
    "                raise Exception('input feature size error')\n",
    "                return 0\n",
    "            else:\n",
    "                return np.dot(self.x,feature.reshape(len(feature),1))\n",
    "        elif(len(feature.shape)==2):\n",
    "            return np.dot(feature,self.x.reshape(len(self.x),1))\n",
    "        else:\n",
    "            raise Exception('feature size is not correct')\n",
    "            return 0"
   ]
  },
  {
   "cell_type": "markdown",
   "metadata": {},
   "source": [
    "### 下面是一个与 python 异常相关的实现\n",
    "分别为继承了 Exception 异常基类的自定义异常类 error\n",
    "以及在异常抛出后针对不同 exception 类型捕捉后进行的相应不同处理\n",
    "每一个 try 对应了一个 finally （可选），即每次 try 后无论结果如何都会处理的行为"
   ]
  },
  {
   "cell_type": "code",
   "execution_count": null,
   "metadata": {},
   "outputs": [],
   "source": [
    "class error(Exception):\n",
    "    def __init__(self,value):\n",
    "        self.value = value\n",
    "    def msg(self):\n",
    "        pass\n",
    "    def __str__(self):\n",
    "        return self.value\n",
    "\n",
    "def raiseError(msg):\n",
    "    pass\n",
    "    #raise error(msg)\n",
    "\n",
    "    \n",
    "def errorRaise(msg):\n",
    "    try:\n",
    "        try:\n",
    "            f = raiseError(msg)\n",
    "        except ConnectionAbortedError:\n",
    "            print('ioerror here')\n",
    "        except IOError:\n",
    "            print('IO error')\n",
    "        except error as e:\n",
    "            print(e)\n",
    "        except:\n",
    "            print('unknown error')\n",
    "        finally:\n",
    "            print('finally 是无论 try 执行结果如何都会执行的行为')\n",
    "    except:\n",
    "        pass\n",
    "    finally:\n",
    "        print('外层 finally 处理对应外层 try')\n",
    "errorRaise('df')"
   ]
  },
  {
   "cell_type": "code",
   "execution_count": null,
   "metadata": {},
   "outputs": [],
   "source": [
    "KFoldValidation(data = np.array([[1,1],[2,2],[3,3],[4,4],[5,5],[6,6],[7,7],[8,8],[9,9]]),trueValue = np.array([1,2,3,4,5,6,7,8,9]),modelTrain = model(),KNumber = 3)"
   ]
  },
  {
   "cell_type": "code",
   "execution_count": null,
   "metadata": {},
   "outputs": [],
   "source": [
    "data = np.array([[1,1],[2,2],[3,3],[4,4],[5,5]])\n",
    "splitLen = int(len(data)/10)\n",
    "print(splitLen)\n",
    "dataFold = []\n",
    "for i in range(0,10):\n",
    "    dataFold.append(data[i*splitLen:(i+1)*splitLen])"
   ]
  }
 ],
 "metadata": {
  "kernelspec": {
   "display_name": "Python 3",
   "language": "python",
   "name": "python3"
  },
  "language_info": {
   "codemirror_mode": {
    "name": "ipython",
    "version": 3
   },
   "file_extension": ".py",
   "mimetype": "text/x-python",
   "name": "python",
   "nbconvert_exporter": "python",
   "pygments_lexer": "ipython3",
   "version": "3.6.3"
  }
 },
 "nbformat": 4,
 "nbformat_minor": 2
}
