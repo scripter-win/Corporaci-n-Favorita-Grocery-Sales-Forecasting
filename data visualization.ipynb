{
 "cells": [
  {
   "cell_type": "code",
   "execution_count": null,
   "metadata": {},
   "outputs": [],
   "source": [
    "from bokeh.plotting import figure,show\n",
    "from bokeh.io import output_notebook\n",
    "##导入bokeh可视化库，配置必要设置\n",
    "\n",
    "import csv\n",
    "file = open('train.csv')\n",
    "csvR = csv.reader(file)\n",
    "\n",
    "# csv key is ['id', 'date', 'store_nbr', 'item_nbr', 'onpromotion']\n",
    "id = []\n",
    "date = []\n",
    "store = []\n",
    "item = []\n",
    "promotion = []\n",
    "\n",
    "import random \n",
    "index = -1\n",
    "for row in csvR:\n",
    "    index+=1\n",
    "    if(index <= 0 or random.randint(0,100) > 1):\n",
    "        continue\n",
    "    id.append(int(row[0]))\n",
    "    date.append(int(row[1].replace('-',''))%100)\n",
    "    store.append(int(row[2]))\n",
    "    item.append(int(row[3]))\n",
    "    promotion.append(row[4])\n",
    "file.close()"
   ]
  },
  {
   "cell_type": "code",
   "execution_count": null,
   "metadata": {
    "scrolled": false
   },
   "outputs": [],
   "source": [
    "import pandas as pd\n",
    "import numpy as np\n",
    "import random\n",
    "\n",
    "dataframe = pd.read_csv('train.csv',chunksize=10000)\n",
    "dataframe.columns = ['id', 'date', 'store', 'item', 'onpromotion']\n",
    "#dateList = [int(d.replace('-','')) for d in dataframe['date']]\n",
    "#dataframe['date'] = dateList\n",
    "\n"
   ]
  },
  {
   "cell_type": "code",
   "execution_count": null,
   "metadata": {},
   "outputs": [],
   "source": [
    "print(dataframe[dataframe['date']%30==1])"
   ]
  },
  {
   "cell_type": "code",
   "execution_count": null,
   "metadata": {},
   "outputs": [],
   "source": [
    "saleNum = {}\n",
    "for i in date:\n",
    "    try:\n",
    "        if saleNum[i] != None:\n",
    "            saleNum[i] += 1\n",
    "    except:\n",
    "        saleNum[i] = 1\n",
    "\n",
    "key = [i for i in saleNum.keys()]\n",
    "value = [saleNum[k] for k in key]\n",
    "###\n",
    "p = figure()\n",
    "p.line(key,value)\n",
    "show(p)"
   ]
  }
 ],
 "metadata": {
  "kernelspec": {
   "display_name": "Python 3",
   "language": "python",
   "name": "python3"
  },
  "language_info": {
   "codemirror_mode": {
    "name": "ipython",
    "version": 3
   },
   "file_extension": ".py",
   "mimetype": "text/x-python",
   "name": "python",
   "nbconvert_exporter": "python",
   "pygments_lexer": "ipython3",
   "version": "3.6.3"
  }
 },
 "nbformat": 4,
 "nbformat_minor": 2
}
